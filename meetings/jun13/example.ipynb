{
 "cells": [
  {
   "cell_type": "code",
   "execution_count": 1,
   "metadata": {},
   "outputs": [],
   "source": [
    "import pandas as pd"
   ]
  },
  {
   "cell_type": "code",
   "execution_count": 2,
   "metadata": {},
   "outputs": [],
   "source": [
    "%matplotlib inline"
   ]
  },
  {
   "cell_type": "code",
   "execution_count": 3,
   "metadata": {},
   "outputs": [],
   "source": [
    "import matplotlib\n",
    "matplotlib.rcParams[\"font.size\"] = 16"
   ]
  },
  {
   "cell_type": "code",
   "execution_count": 4,
   "metadata": {},
   "outputs": [
    {
     "name": "stderr",
     "output_type": "stream",
     "text": [
      "/Library/Frameworks/Python.framework/Versions/3.7/lib/python3.7/site-packages/IPython/core/interactiveshell.py:3020: DtypeWarning: Columns (9,30,44,45,84,85,109,114,116,127,128,141) have mixed types. Specify dtype option on import or set low_memory=False.\n",
      "  interactivity=interactivity, compiler=compiler, result=result)\n"
     ]
    }
   ],
   "source": [
    "# from here: http://data-cityofmadison.opendata.arcgis.com/datasets/tax-parcels-assessor-property-information\n",
    "df = pd.read_csv(\"Tax_Parcels_Assessor_Property_Information.csv.gz\")"
   ]
  },
  {
   "cell_type": "code",
   "execution_count": 5,
   "metadata": {},
   "outputs": [
    {
     "data": {
      "text/plain": [
       "{'OBJECTID': 1,\n",
       " 'Parcel': 60801101019,\n",
       " 'XRefParcel': 60801101019,\n",
       " 'Address': '2001 Rae Ln',\n",
       " 'DateParcelChanged': '2019-04-09T00:00:00.000Z',\n",
       " 'PropertyClass': 'Residential',\n",
       " 'PropertyUse': 'Single family',\n",
       " 'AssessmentArea': 1,\n",
       " 'AreaName': 'Meadowood',\n",
       " 'MoreThanOneBuild': nan,\n",
       " 'HomeStyle': 'Ranch',\n",
       " 'DwellingUnits': 1,\n",
       " 'Stories': 1.0,\n",
       " 'YearBuilt': 1960,\n",
       " 'Bedrooms': 3,\n",
       " 'FullBaths': 1,\n",
       " 'HalfBaths': 2,\n",
       " 'TotalLivingArea': 1371,\n",
       " 'FirstFloor': 1371,\n",
       " 'SecondFloor': 0,\n",
       " 'ThirdFloor': 0,\n",
       " 'AboveThirdFloor': 0,\n",
       " 'FinishedAttic': 0,\n",
       " 'Basement': 1254,\n",
       " 'FinishedBasement': 686,\n",
       " 'ExteriorWall1': 'Wood',\n",
       " 'ExteriorWall2': nan,\n",
       " 'Fireplaces': 1,\n",
       " 'CentralAir': 'YES',\n",
       " 'PartialAssessed': nan,\n",
       " 'AssessedByState': nan,\n",
       " 'CurrentLand': 66000,\n",
       " 'CurrentImpr': 148500,\n",
       " 'CurrentTotal': 214500,\n",
       " 'PreviousLand': 61700,\n",
       " 'PreviousImpr': 145500,\n",
       " 'PreviousTotal': 207200,\n",
       " 'NetTaxes': 4400.41,\n",
       " 'SpecialAssmnt': 0.0,\n",
       " 'OtherCharges': 84.39,\n",
       " 'TotalTaxes': 4484.8,\n",
       " 'LotSize': 14270.0,\n",
       " 'Zoning1': 'SR-C1',\n",
       " 'Zoning2': nan,\n",
       " 'Zoning3': nan,\n",
       " 'Zoning4': nan,\n",
       " 'FrontageFeet': 85.07,\n",
       " 'FrontageStreet': 'Rae Ln',\n",
       " 'WaterFrontage': 'NO',\n",
       " 'TIFDistrict': 0,\n",
       " 'TaxSchoolDist': nan,\n",
       " 'AttendanceSchool': 'Madison',\n",
       " 'ElementarySchool': 'Huegel',\n",
       " 'MiddleSchool': 'Toki',\n",
       " 'HighSchool': 'Memorial',\n",
       " 'Ward': 95,\n",
       " 'StateAssemblyDistrict': 78,\n",
       " 'RefuseDistrict': '04B',\n",
       " 'RefuseURL': 'http://www.cityofmadison.com/streets/documents/tueB.pdf',\n",
       " 'PreviousLand2': 61700,\n",
       " 'PreviousImpr2': 125000,\n",
       " 'PreviousTotal2': 186700,\n",
       " 'AlderDistrict': 20,\n",
       " 'AssessmentChangeDate': '2019-04-09T00:00:00.000Z',\n",
       " 'BlockNumber': 0,\n",
       " 'BuildingDistrict': 2,\n",
       " 'CapitolFireDistrict': ' - ',\n",
       " 'CensusTract': 5.02,\n",
       " 'ConditionalUse': 0,\n",
       " 'CouncilHold': 0,\n",
       " 'DateAdded': nan,\n",
       " 'DeedPage': 0,\n",
       " 'DeedRestriction': 0,\n",
       " 'DeedVolume': 0,\n",
       " 'ElectricalDistrict': 1,\n",
       " 'EnvHealthDistrict': 31,\n",
       " 'ExemptionType': ' - ',\n",
       " 'FireDistrict': 1,\n",
       " 'FloodPlain': 0,\n",
       " 'FuelStorageProximity': 0,\n",
       " 'HeatingDistrict': 2,\n",
       " 'Holds': nan,\n",
       " 'IllegalLandDivision': 0,\n",
       " 'LandfillProximity': 0,\n",
       " 'LandfillRemediation': nan,\n",
       " 'Landmark': nan,\n",
       " 'LandscapeBuffer': 0,\n",
       " 'LocalHistoricalDist': ' - ',\n",
       " 'LotDepth': 0.0,\n",
       " 'LotNumber': 0,\n",
       " 'LotteryCredit': 0,\n",
       " 'LotType1': '1 - Regular',\n",
       " 'LotType2': '1 - Corner',\n",
       " 'LotWidth': 0.0,\n",
       " 'MCDCode': 'MADC',\n",
       " 'NationalHistoricalDist': 0,\n",
       " 'NeighborhoodDesc': 'No description entered',\n",
       " 'NeighborhoodPrimary': '0 - No description entered',\n",
       " 'NeighborhoodSub': '0 - No description entered',\n",
       " 'NeighborhoodVuln': '0 - ',\n",
       " 'NoiseAirport': 0,\n",
       " 'NoiseRailroad': 0,\n",
       " 'NoiseStreet': 61,\n",
       " 'ObsoleteDate': nan,\n",
       " 'OwnerChangeDate': '2016-05-17T00:00:00.000Z',\n",
       " 'OwnerOccupied': nan,\n",
       " 'ParcelChangeDate': '2019-04-09T00:00:00.000Z',\n",
       " 'ParcelCode': nan,\n",
       " 'ParkProximity': 0,\n",
       " 'Pending': nan,\n",
       " 'PlanningDistrict': 'W',\n",
       " 'PlumbingDistrict': 1,\n",
       " 'PoliceDistrict': 'A',\n",
       " 'PoliceSector': 117,\n",
       " 'PreviousClass': nan,\n",
       " 'PropertyUseCode': 1,\n",
       " 'RailroadFrontage': nan,\n",
       " 'ReasonChangeImpr': nan,\n",
       " 'ReasonChangeLand': '6 - Revalue - Decrease',\n",
       " 'SenateDistrict': 26,\n",
       " 'SupervisorDistrict': 7,\n",
       " 'TifImpr': 0,\n",
       " 'TifLand': 0,\n",
       " 'TifYear': 0,\n",
       " 'TotalDwellingUnits': 1,\n",
       " 'TrafficAnalysisZone': 303,\n",
       " 'TypeWaterFrontage': '0 - No Water Frontage',\n",
       " 'UWPolice': nan,\n",
       " 'WetlandInfo': nan,\n",
       " 'ZoningAll': 'SR-C1',\n",
       " 'ZoningBoardAppeal': 0,\n",
       " 'UrbanDesignDistrict': '0 - Not in a design district',\n",
       " 'HouseNbr': 2001,\n",
       " 'StreetDir': nan,\n",
       " 'StreetName': 'Rae',\n",
       " 'StreetType': 'Ln',\n",
       " 'Unit': nan,\n",
       " 'StreetID': 6936,\n",
       " 'StormOutfall': 'SR01A106',\n",
       " 'FireDemandZone': 0,\n",
       " 'FireDemandSubZone': 0,\n",
       " 'PropertyChangeDate': nan,\n",
       " 'MaxConstructionYear': 1960,\n",
       " 'XCoord': 794441.34533048,\n",
       " 'YCoord': 467139.3384198,\n",
       " 'SHAPESTArea': 14249.096038818401,\n",
       " 'SHAPESTLength': 489.04014885137}"
      ]
     },
     "execution_count": 5,
     "metadata": {},
     "output_type": "execute_result"
    }
   ],
   "source": [
    "dict(df.iloc[0])"
   ]
  },
  {
   "cell_type": "code",
   "execution_count": 6,
   "metadata": {},
   "outputs": [
    {
     "data": {
      "text/plain": [
       "Single family           47257\n",
       "Condominium             17027\n",
       "2 Unit                   3252\n",
       "Vacant                   2924\n",
       "Agricultural             1469\n",
       "4 unit Apartment          936\n",
       "Commercial exempt         914\n",
       "3 unit Apartment          579\n",
       "Condominium -other        573\n",
       "Office 2 sty or lg.       302\n",
       "Warehouse & office        261\n",
       "8 unit Apartment          234\n",
       "Store 1 sty sm            232\n",
       "Condominium-notation      207\n",
       "Apartment & store         190\n",
       "Condominium -office       150\n",
       "Office - 1 story          137\n",
       "Manufacturing             136\n",
       "6 unit Apartment          133\n",
       "Warehouse 1 story         125\n",
       "5 unit Apartment          125\n",
       "M-1 vacant                 99\n",
       "Shop center neighbor       96\n",
       "Condominium -apt           76\n",
       "C-2 parking lot            75\n",
       "Condo -store/retail        75\n",
       "Restaurant                 72\n",
       "Pud vacant                 66\n",
       "C-2 vacant                 57\n",
       "Bank, s & l                56\n",
       "                        ...  \n",
       "362 unit Apartment          1\n",
       "R-3 vacant                  1\n",
       "85 unit Apartment           1\n",
       "Florist -greenhouse         1\n",
       "Shop & apartment            1\n",
       "Store 2+ stories lg.        1\n",
       "90 unit Apartment           1\n",
       "224 unit Apartment          1\n",
       "143 unit Apartment          1\n",
       "Asphalt plant               1\n",
       "131 unit Apartment          1\n",
       "226 unit Apartment          1\n",
       "202 unit Apartment          1\n",
       "122 unit Apartment          1\n",
       "228 unit Apartment          1\n",
       "179 unit Apartment          1\n",
       "Pcd vacant                  1\n",
       "65 unit Apartment           1\n",
       "141 unit Apartment          1\n",
       "84 unit Apartment           1\n",
       "161 unit Apartment          1\n",
       "89 unit Apartment           1\n",
       "R-2 parking lot             1\n",
       "Rink ice-roller-raq         1\n",
       "257 unit Apartment          1\n",
       "155 unit Apartment          1\n",
       "130 unit Apartment          1\n",
       "95 unit Apartment           1\n",
       "186 unit Apartment          1\n",
       "238 unit Apartment          1\n",
       "Name: PropertyUse, Length: 307, dtype: int64"
      ]
     },
     "execution_count": 6,
     "metadata": {},
     "output_type": "execute_result"
    }
   ],
   "source": [
    "df[\"PropertyUse\"].value_counts()"
   ]
  },
  {
   "cell_type": "code",
   "execution_count": 43,
   "metadata": {},
   "outputs": [
    {
     "data": {
      "text/plain": [
       "58592"
      ]
     },
     "execution_count": 43,
     "metadata": {},
     "output_type": "execute_result"
    }
   ],
   "source": [
    "props = df[df[\"PropertyUse\"].isin([\"Single family\", \"Condominium\"]) & (df[\"YearBuilt\"] > 0)].copy()\n",
    "len(props)"
   ]
  },
  {
   "cell_type": "code",
   "execution_count": 44,
   "metadata": {},
   "outputs": [],
   "source": [
    "props[\"house\"] = (props[\"PropertyUse\"] == \"Single family\").astype(int)"
   ]
  },
  {
   "cell_type": "code",
   "execution_count": 45,
   "metadata": {},
   "outputs": [
    {
     "data": {
      "text/html": [
       "<div>\n",
       "<style scoped>\n",
       "    .dataframe tbody tr th:only-of-type {\n",
       "        vertical-align: middle;\n",
       "    }\n",
       "\n",
       "    .dataframe tbody tr th {\n",
       "        vertical-align: top;\n",
       "    }\n",
       "\n",
       "    .dataframe thead th {\n",
       "        text-align: right;\n",
       "    }\n",
       "</style>\n",
       "<table border=\"1\" class=\"dataframe\">\n",
       "  <thead>\n",
       "    <tr style=\"text-align: right;\">\n",
       "      <th></th>\n",
       "      <th>OBJECTID</th>\n",
       "      <th>Parcel</th>\n",
       "      <th>XRefParcel</th>\n",
       "      <th>Address</th>\n",
       "      <th>DateParcelChanged</th>\n",
       "      <th>PropertyClass</th>\n",
       "      <th>PropertyUse</th>\n",
       "      <th>AssessmentArea</th>\n",
       "      <th>AreaName</th>\n",
       "      <th>MoreThanOneBuild</th>\n",
       "      <th>...</th>\n",
       "      <th>StormOutfall</th>\n",
       "      <th>FireDemandZone</th>\n",
       "      <th>FireDemandSubZone</th>\n",
       "      <th>PropertyChangeDate</th>\n",
       "      <th>MaxConstructionYear</th>\n",
       "      <th>XCoord</th>\n",
       "      <th>YCoord</th>\n",
       "      <th>SHAPESTArea</th>\n",
       "      <th>SHAPESTLength</th>\n",
       "      <th>house</th>\n",
       "    </tr>\n",
       "  </thead>\n",
       "  <tbody>\n",
       "    <tr>\n",
       "      <th>0</th>\n",
       "      <td>1</td>\n",
       "      <td>60801101019</td>\n",
       "      <td>60801101019</td>\n",
       "      <td>2001 Rae Ln</td>\n",
       "      <td>2019-04-09T00:00:00.000Z</td>\n",
       "      <td>Residential</td>\n",
       "      <td>Single family</td>\n",
       "      <td>1</td>\n",
       "      <td>Meadowood</td>\n",
       "      <td>NaN</td>\n",
       "      <td>...</td>\n",
       "      <td>SR01A106</td>\n",
       "      <td>0</td>\n",
       "      <td>0</td>\n",
       "      <td>NaN</td>\n",
       "      <td>1960</td>\n",
       "      <td>794441.345330</td>\n",
       "      <td>467139.338420</td>\n",
       "      <td>14249.096039</td>\n",
       "      <td>489.040149</td>\n",
       "      <td>1</td>\n",
       "    </tr>\n",
       "    <tr>\n",
       "      <th>1</th>\n",
       "      <td>2</td>\n",
       "      <td>60801101027</td>\n",
       "      <td>60801101027</td>\n",
       "      <td>2005 Rae Ln</td>\n",
       "      <td>2019-04-04T00:00:00.000Z</td>\n",
       "      <td>Residential</td>\n",
       "      <td>Single family</td>\n",
       "      <td>1</td>\n",
       "      <td>Meadowood</td>\n",
       "      <td>NaN</td>\n",
       "      <td>...</td>\n",
       "      <td>SR01A106</td>\n",
       "      <td>0</td>\n",
       "      <td>0</td>\n",
       "      <td>NaN</td>\n",
       "      <td>1959</td>\n",
       "      <td>794440.808870</td>\n",
       "      <td>467045.115629</td>\n",
       "      <td>14681.969330</td>\n",
       "      <td>520.009834</td>\n",
       "      <td>1</td>\n",
       "    </tr>\n",
       "    <tr>\n",
       "      <th>2</th>\n",
       "      <td>3</td>\n",
       "      <td>60801101035</td>\n",
       "      <td>60801101035</td>\n",
       "      <td>2009 Rae Ln</td>\n",
       "      <td>2019-04-04T00:00:00.000Z</td>\n",
       "      <td>Residential</td>\n",
       "      <td>Single family</td>\n",
       "      <td>1</td>\n",
       "      <td>Meadowood</td>\n",
       "      <td>NaN</td>\n",
       "      <td>...</td>\n",
       "      <td>SR01A106</td>\n",
       "      <td>0</td>\n",
       "      <td>0</td>\n",
       "      <td>NaN</td>\n",
       "      <td>1959</td>\n",
       "      <td>794423.272923</td>\n",
       "      <td>466958.978924</td>\n",
       "      <td>16969.476318</td>\n",
       "      <td>553.207541</td>\n",
       "      <td>1</td>\n",
       "    </tr>\n",
       "    <tr>\n",
       "      <th>3</th>\n",
       "      <td>4</td>\n",
       "      <td>60801101043</td>\n",
       "      <td>60801101043</td>\n",
       "      <td>2013 Rae Ln</td>\n",
       "      <td>2019-04-04T00:00:00.000Z</td>\n",
       "      <td>Residential</td>\n",
       "      <td>Single family</td>\n",
       "      <td>1</td>\n",
       "      <td>Meadowood</td>\n",
       "      <td>NaN</td>\n",
       "      <td>...</td>\n",
       "      <td>SR01A106</td>\n",
       "      <td>0</td>\n",
       "      <td>0</td>\n",
       "      <td>NaN</td>\n",
       "      <td>1962</td>\n",
       "      <td>794362.600613</td>\n",
       "      <td>466893.346395</td>\n",
       "      <td>15697.005707</td>\n",
       "      <td>536.686536</td>\n",
       "      <td>1</td>\n",
       "    </tr>\n",
       "    <tr>\n",
       "      <th>4</th>\n",
       "      <td>5</td>\n",
       "      <td>60801101051</td>\n",
       "      <td>60801101051</td>\n",
       "      <td>2017 Rae Ln</td>\n",
       "      <td>2019-04-04T00:00:00.000Z</td>\n",
       "      <td>Residential</td>\n",
       "      <td>Single family</td>\n",
       "      <td>1</td>\n",
       "      <td>Meadowood</td>\n",
       "      <td>NaN</td>\n",
       "      <td>...</td>\n",
       "      <td>SR01A106</td>\n",
       "      <td>0</td>\n",
       "      <td>0</td>\n",
       "      <td>NaN</td>\n",
       "      <td>1959</td>\n",
       "      <td>794290.771276</td>\n",
       "      <td>466844.966746</td>\n",
       "      <td>13508.510498</td>\n",
       "      <td>489.774768</td>\n",
       "      <td>1</td>\n",
       "    </tr>\n",
       "  </tbody>\n",
       "</table>\n",
       "<p>5 rows × 148 columns</p>\n",
       "</div>"
      ],
      "text/plain": [
       "   OBJECTID       Parcel   XRefParcel      Address         DateParcelChanged  \\\n",
       "0         1  60801101019  60801101019  2001 Rae Ln  2019-04-09T00:00:00.000Z   \n",
       "1         2  60801101027  60801101027  2005 Rae Ln  2019-04-04T00:00:00.000Z   \n",
       "2         3  60801101035  60801101035  2009 Rae Ln  2019-04-04T00:00:00.000Z   \n",
       "3         4  60801101043  60801101043  2013 Rae Ln  2019-04-04T00:00:00.000Z   \n",
       "4         5  60801101051  60801101051  2017 Rae Ln  2019-04-04T00:00:00.000Z   \n",
       "\n",
       "  PropertyClass    PropertyUse  AssessmentArea   AreaName MoreThanOneBuild  \\\n",
       "0   Residential  Single family               1  Meadowood              NaN   \n",
       "1   Residential  Single family               1  Meadowood              NaN   \n",
       "2   Residential  Single family               1  Meadowood              NaN   \n",
       "3   Residential  Single family               1  Meadowood              NaN   \n",
       "4   Residential  Single family               1  Meadowood              NaN   \n",
       "\n",
       "   ... StormOutfall  FireDemandZone  FireDemandSubZone  PropertyChangeDate  \\\n",
       "0  ...     SR01A106               0                  0                 NaN   \n",
       "1  ...     SR01A106               0                  0                 NaN   \n",
       "2  ...     SR01A106               0                  0                 NaN   \n",
       "3  ...     SR01A106               0                  0                 NaN   \n",
       "4  ...     SR01A106               0                  0                 NaN   \n",
       "\n",
       "   MaxConstructionYear         XCoord         YCoord   SHAPESTArea  \\\n",
       "0                 1960  794441.345330  467139.338420  14249.096039   \n",
       "1                 1959  794440.808870  467045.115629  14681.969330   \n",
       "2                 1959  794423.272923  466958.978924  16969.476318   \n",
       "3                 1962  794362.600613  466893.346395  15697.005707   \n",
       "4                 1959  794290.771276  466844.966746  13508.510498   \n",
       "\n",
       "   SHAPESTLength  house  \n",
       "0     489.040149      1  \n",
       "1     520.009834      1  \n",
       "2     553.207541      1  \n",
       "3     536.686536      1  \n",
       "4     489.774768      1  \n",
       "\n",
       "[5 rows x 148 columns]"
      ]
     },
     "execution_count": 45,
     "metadata": {},
     "output_type": "execute_result"
    }
   ],
   "source": [
    "props.head()"
   ]
  },
  {
   "cell_type": "code",
   "execution_count": 62,
   "metadata": {},
   "outputs": [],
   "source": [
    "var1 = \"Bedrooms\"\n",
    "var2 = \"FullBaths\""
   ]
  },
  {
   "cell_type": "code",
   "execution_count": 63,
   "metadata": {},
   "outputs": [
    {
     "data": {
      "text/plain": [
       "(47232, 11360)"
      ]
     },
     "execution_count": 63,
     "metadata": {},
     "output_type": "execute_result"
    }
   ],
   "source": [
    "dataset = props[[var1, var2, \"house\"]]\n",
    "houses = dataset[dataset[\"house\"] == 1]\n",
    "condos = dataset[dataset[\"house\"] == 0]\n",
    "len(houses), len(condos)"
   ]
  },
  {
   "cell_type": "code",
   "execution_count": 64,
   "metadata": {},
   "outputs": [
    {
     "data": {
      "text/plain": [
       "0.8061168760240306"
      ]
     },
     "execution_count": 64,
     "metadata": {},
     "output_type": "execute_result"
    }
   ],
   "source": [
    "len(houses) / (len(houses) + len(condos))"
   ]
  },
  {
   "cell_type": "code",
   "execution_count": 65,
   "metadata": {},
   "outputs": [
    {
     "data": {
      "text/plain": [
       "<matplotlib.axes._subplots.AxesSubplot at 0x1171c29e8>"
      ]
     },
     "execution_count": 65,
     "metadata": {},
     "output_type": "execute_result"
    },
    {
     "data": {
      "image/png": "[encoded data removed]",
      "text/plain": [
       "<Figure size 432x288 with 1 Axes>"
      ]
     },
     "metadata": {
      "needs_background": "light"
     },
     "output_type": "display_data"
    }
   ],
   "source": [
    "ax = houses.plot.scatter(x=var1, y=var2, color=\"black\", label=\"House\")\n",
    "condos.plot.scatter(x=var1, y=var2, color=\"gray\", label=\"Condo\", ax=ax)"
   ]
  },
  {
   "cell_type": "code",
   "execution_count": 66,
   "metadata": {},
   "outputs": [
    {
     "data": {
      "text/html": [
       "<div>\n",
       "<style scoped>\n",
       "    .dataframe tbody tr th:only-of-type {\n",
       "        vertical-align: middle;\n",
       "    }\n",
       "\n",
       "    .dataframe tbody tr th {\n",
       "        vertical-align: top;\n",
       "    }\n",
       "\n",
       "    .dataframe thead th {\n",
       "        text-align: right;\n",
       "    }\n",
       "</style>\n",
       "<table border=\"1\" class=\"dataframe\">\n",
       "  <thead>\n",
       "    <tr style=\"text-align: right;\">\n",
       "      <th></th>\n",
       "      <th>Bedrooms</th>\n",
       "      <th>FullBaths</th>\n",
       "      <th>house</th>\n",
       "    </tr>\n",
       "  </thead>\n",
       "  <tbody>\n",
       "    <tr>\n",
       "      <th>0</th>\n",
       "      <td>3</td>\n",
       "      <td>1</td>\n",
       "      <td>1</td>\n",
       "    </tr>\n",
       "    <tr>\n",
       "      <th>1</th>\n",
       "      <td>4</td>\n",
       "      <td>1</td>\n",
       "      <td>1</td>\n",
       "    </tr>\n",
       "    <tr>\n",
       "      <th>2</th>\n",
       "      <td>3</td>\n",
       "      <td>1</td>\n",
       "      <td>1</td>\n",
       "    </tr>\n",
       "    <tr>\n",
       "      <th>3</th>\n",
       "      <td>3</td>\n",
       "      <td>2</td>\n",
       "      <td>1</td>\n",
       "    </tr>\n",
       "    <tr>\n",
       "      <th>4</th>\n",
       "      <td>3</td>\n",
       "      <td>2</td>\n",
       "      <td>1</td>\n",
       "    </tr>\n",
       "  </tbody>\n",
       "</table>\n",
       "</div>"
      ],
      "text/plain": [
       "   Bedrooms  FullBaths  house\n",
       "0         3          1      1\n",
       "1         4          1      1\n",
       "2         3          1      1\n",
       "3         3          2      1\n",
       "4         3          2      1"
      ]
     },
     "execution_count": 66,
     "metadata": {},
     "output_type": "execute_result"
    }
   ],
   "source": [
    "dataset.head()"
   ]
  },
  {
   "cell_type": "code",
   "execution_count": 67,
   "metadata": {},
   "outputs": [
    {
     "data": {
      "text/plain": [
       "array([[3, 1],\n",
       "       [4, 1],\n",
       "       [3, 1],\n",
       "       ...,\n",
       "       [3, 2],\n",
       "       [3, 2],\n",
       "       [4, 4]])"
      ]
     },
     "execution_count": 67,
     "metadata": {},
     "output_type": "execute_result"
    }
   ],
   "source": [
    "X = dataset.iloc[:, :-1].values\n",
    "X"
   ]
  },
  {
   "cell_type": "code",
   "execution_count": 68,
   "metadata": {},
   "outputs": [
    {
     "data": {
      "text/plain": [
       "array([1, 1, 1, ..., 1, 1, 0])"
      ]
     },
     "execution_count": 68,
     "metadata": {},
     "output_type": "execute_result"
    }
   ],
   "source": [
    "Y = dataset[\"house\"].values\n",
    "Y"
   ]
  },
  {
   "cell_type": "code",
   "execution_count": 69,
   "metadata": {},
   "outputs": [],
   "source": [
    "from sklearn.model_selection import train_test_split\n",
    "from sklearn.linear_model import LogisticRegression"
   ]
  },
  {
   "cell_type": "code",
   "execution_count": 70,
   "metadata": {},
   "outputs": [],
   "source": [
    "X_train, X_test, Y_train, Y_test = train_test_split(X, Y, test_size=0.5, stratify=Y)"
   ]
  },
  {
   "cell_type": "code",
   "execution_count": 71,
   "metadata": {},
   "outputs": [
    {
     "data": {
      "text/plain": [
       "(29296, 29296)"
      ]
     },
     "execution_count": 71,
     "metadata": {},
     "output_type": "execute_result"
    }
   ],
   "source": [
    "len(X_train), len(X_test)"
   ]
  },
  {
   "cell_type": "code",
   "execution_count": 72,
   "metadata": {},
   "outputs": [],
   "source": [
    "lr = LogisticRegression(solver='lbfgs')"
   ]
  },
  {
   "cell_type": "code",
   "execution_count": 73,
   "metadata": {},
   "outputs": [
    {
     "data": {
      "text/plain": [
       "LogisticRegression(C=1.0, class_weight=None, dual=False, fit_intercept=True,\n",
       "                   intercept_scaling=1, l1_ratio=None, max_iter=100,\n",
       "                   multi_class='warn', n_jobs=None, penalty='l2',\n",
       "                   random_state=None, solver='lbfgs', tol=0.0001, verbose=0,\n",
       "                   warm_start=False)"
      ]
     },
     "execution_count": 73,
     "metadata": {},
     "output_type": "execute_result"
    }
   ],
   "source": [
    "lr.fit(X_train, Y_train)"
   ]
  },
  {
   "cell_type": "code",
   "execution_count": 74,
   "metadata": {},
   "outputs": [],
   "source": [
    "import numpy as np"
   ]
  },
  {
   "cell_type": "code",
   "execution_count": 75,
   "metadata": {},
   "outputs": [
    {
     "data": {
      "text/plain": [
       "True     25663\n",
       "False     3633\n",
       "dtype: int64"
      ]
     },
     "execution_count": 75,
     "metadata": {},
     "output_type": "execute_result"
    }
   ],
   "source": [
    "pd.Series(lr.predict(X_test) == Y_test).value_counts()"
   ]
  },
  {
   "cell_type": "code",
   "execution_count": 76,
   "metadata": {},
   "outputs": [
    {
     "data": {
      "text/plain": [
       "0.8759898962315674"
      ]
     },
     "execution_count": 76,
     "metadata": {},
     "output_type": "execute_result"
    }
   ],
   "source": [
    "lr.score(X_test, Y_test)"
   ]
  },
  {
   "cell_type": "code",
   "execution_count": 79,
   "metadata": {},
   "outputs": [
    {
     "name": "stdout",
     "output_type": "stream",
     "text": [
      "0 0 [0]\n",
      "0 1 [0]\n",
      "0 2 [0]\n",
      "0 3 [0]\n",
      "0 4 [0]\n",
      "\n",
      "1 0 [0]\n",
      "1 1 [0]\n",
      "1 2 [0]\n",
      "1 3 [0]\n",
      "1 4 [0]\n",
      "\n",
      "2 0 [1]\n",
      "2 1 [1]\n",
      "2 2 [0]\n",
      "2 3 [0]\n",
      "2 4 [0]\n",
      "\n",
      "3 0 [1]\n",
      "3 1 [1]\n",
      "3 2 [1]\n",
      "3 3 [1]\n",
      "3 4 [1]\n",
      "\n",
      "4 0 [1]\n",
      "4 1 [1]\n",
      "4 2 [1]\n",
      "4 3 [1]\n",
      "4 4 [1]\n",
      "\n"
     ]
    }
   ],
   "source": [
    "for baths in range(5):\n",
    "    for beds in range(5):\n",
    "        print(baths, beds, lr.predict([[baths, beds]]))\n",
    "    print()"
   ]
  },
  {
   "cell_type": "code",
   "execution_count": null,
   "metadata": {},
   "outputs": [],
   "source": []
  }
 ],
 "metadata": {
  "kernelspec": {
   "display_name": "Python 3",
   "language": "python",
   "name": "python3"
  },
  "language_info": {
   "codemirror_mode": {
    "name": "ipython",
    "version": 3
   },
   "file_extension": ".py",
   "mimetype": "text/x-python",
   "name": "python",
   "nbconvert_exporter": "python",
   "pygments_lexer": "ipython3",
   "version": "3.7.2"
  }
 },
 "nbformat": 4,
 "nbformat_minor": 2
}
